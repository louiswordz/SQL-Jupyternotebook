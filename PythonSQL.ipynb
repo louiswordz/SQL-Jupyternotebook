{
 "cells": [
  {
   "cell_type": "markdown",
   "id": "05c91a5c-a73b-4c8b-8d2d-7746ea7b2ea2",
   "metadata": {},
   "source": [
    "<h2>SQL CLASS</h2>\n",
    "\n",
    "<figure>\n",
    "    <img src=\"https://encrypted-tbn0.gstatic.com/images?q=tbn:ANd9GcTdQ0mU7Mx11Fwy7h91WYMCUWGjJWlk562TG0pFftVgCYlQRcVWz1qqmpcnNQ&s\" alt='SQL Logo'>\n",
    "    <figcaption>SQL Class</figcaption>\n",
    "</figure>"
   ]
  },
  {
   "cell_type": "code",
   "execution_count": 2,
   "id": "86bff5ee-72d8-4a80-904c-79abf1ca538b",
   "metadata": {},
   "outputs": [],
   "source": [
    "# import libraries\n",
    "import pyodbc\n",
    "import pandas as pd\n",
    "import numpy as np\n",
    "import matplotlib.pyplot as plt\n",
    "import seaborn as sb\n",
    "import warnings\n",
    "warnings.filterwarnings('ignore')"
   ]
  },
  {
   "cell_type": "code",
   "execution_count": 3,
   "id": "feb34067-fe86-4265-8a7f-c2239f821fb8",
   "metadata": {},
   "outputs": [
    {
     "data": {
      "text/plain": [
       "['SQL Server',\n",
       " 'ODBC Driver 17 for SQL Server',\n",
       " 'SQL Server Native Client RDA 11.0',\n",
       " 'Microsoft Access Driver (*.mdb, *.accdb)',\n",
       " 'Microsoft Excel Driver (*.xls, *.xlsx, *.xlsm, *.xlsb)',\n",
       " 'Microsoft Access Text Driver (*.txt, *.csv)']"
      ]
     },
     "execution_count": 3,
     "metadata": {},
     "output_type": "execute_result"
    }
   ],
   "source": [
    "# Check for drivers\n",
    "pyodbc.drivers()"
   ]
  },
  {
   "cell_type": "code",
   "execution_count": 4,
   "id": "627b268e-d07c-4651-a74e-64b6582857a5",
   "metadata": {},
   "outputs": [],
   "source": [
    "# Establish connection\n",
    "connection = pyodbc.connect('Driver={SQL Server};' 'Server=DESKTOP-6F66SDS\\SQLEXPRESS;' 'Database=Tutorials;' 'Trusted_connection=yes;')"
   ]
  },
  {
   "cell_type": "code",
   "execution_count": 5,
   "id": "3858ca3c-0ed2-4bfb-9421-e188839df5dc",
   "metadata": {},
   "outputs": [],
   "source": [
    "# Load SQL command\n",
    "SQL_QUERY = 'SELECT SI.studentid, firstName, LastName, Age, Gender, Score, Average, Grade, Comment FROM dbo.StudentInfo SI JOIN dbo.StudentResult AS SR ON SI.studentid = SR.Studentid'"
   ]
  },
  {
   "cell_type": "code",
   "execution_count": 6,
   "id": "3a8685a1-04e6-4bc9-8fe4-9ca0b6111fc0",
   "metadata": {},
   "outputs": [],
   "source": [
    "# Read data\n",
    "df = pd.read_sql(SQL_QUERY, con=connection)"
   ]
  },
  {
   "cell_type": "code",
   "execution_count": 7,
   "id": "9d720ef5-e140-4d2b-ae79-8cd009ffb3f2",
   "metadata": {},
   "outputs": [
    {
     "data": {
      "text/html": [
       "<div>\n",
       "<style scoped>\n",
       "    .dataframe tbody tr th:only-of-type {\n",
       "        vertical-align: middle;\n",
       "    }\n",
       "\n",
       "    .dataframe tbody tr th {\n",
       "        vertical-align: top;\n",
       "    }\n",
       "\n",
       "    .dataframe thead th {\n",
       "        text-align: right;\n",
       "    }\n",
       "</style>\n",
       "<table border=\"1\" class=\"dataframe\">\n",
       "  <thead>\n",
       "    <tr style=\"text-align: right;\">\n",
       "      <th></th>\n",
       "      <th>studentid</th>\n",
       "      <th>firstName</th>\n",
       "      <th>LastName</th>\n",
       "      <th>Age</th>\n",
       "      <th>Gender</th>\n",
       "      <th>Score</th>\n",
       "      <th>Average</th>\n",
       "      <th>Grade</th>\n",
       "      <th>Comment</th>\n",
       "    </tr>\n",
       "  </thead>\n",
       "  <tbody>\n",
       "    <tr>\n",
       "      <th>0</th>\n",
       "      <td>101</td>\n",
       "      <td>Jacobson</td>\n",
       "      <td>Koryele</td>\n",
       "      <td>23</td>\n",
       "      <td>Male</td>\n",
       "      <td>87</td>\n",
       "      <td>82.3</td>\n",
       "      <td>A</td>\n",
       "      <td>Excellent</td>\n",
       "    </tr>\n",
       "    <tr>\n",
       "      <th>1</th>\n",
       "      <td>102</td>\n",
       "      <td>Mark</td>\n",
       "      <td>Henry</td>\n",
       "      <td>45</td>\n",
       "      <td>Male</td>\n",
       "      <td>77</td>\n",
       "      <td>74.5</td>\n",
       "      <td>B</td>\n",
       "      <td>Very Good</td>\n",
       "    </tr>\n",
       "    <tr>\n",
       "      <th>2</th>\n",
       "      <td>103</td>\n",
       "      <td>Blue</td>\n",
       "      <td>Kamsi</td>\n",
       "      <td>22</td>\n",
       "      <td>Female</td>\n",
       "      <td>82</td>\n",
       "      <td>81.4</td>\n",
       "      <td>A</td>\n",
       "      <td>Excellent</td>\n",
       "    </tr>\n",
       "    <tr>\n",
       "      <th>3</th>\n",
       "      <td>104</td>\n",
       "      <td>Chris</td>\n",
       "      <td>Sam</td>\n",
       "      <td>24</td>\n",
       "      <td>Male</td>\n",
       "      <td>90</td>\n",
       "      <td>89.9</td>\n",
       "      <td>A</td>\n",
       "      <td>Excellent</td>\n",
       "    </tr>\n",
       "    <tr>\n",
       "      <th>4</th>\n",
       "      <td>105</td>\n",
       "      <td>Kamanu</td>\n",
       "      <td>Timothy</td>\n",
       "      <td>34</td>\n",
       "      <td>Male</td>\n",
       "      <td>85</td>\n",
       "      <td>82.7</td>\n",
       "      <td>A</td>\n",
       "      <td>Excellent</td>\n",
       "    </tr>\n",
       "  </tbody>\n",
       "</table>\n",
       "</div>"
      ],
      "text/plain": [
       "   studentid firstName LastName  Age  Gender  Score  Average Grade    Comment\n",
       "0        101  Jacobson  Koryele   23    Male     87     82.3     A  Excellent\n",
       "1        102      Mark    Henry   45    Male     77     74.5     B  Very Good\n",
       "2        103      Blue    Kamsi   22  Female     82     81.4     A  Excellent\n",
       "3        104     Chris      Sam   24    Male     90     89.9     A  Excellent\n",
       "4        105    Kamanu  Timothy   34    Male     85     82.7     A  Excellent"
      ]
     },
     "execution_count": 7,
     "metadata": {},
     "output_type": "execute_result"
    }
   ],
   "source": [
    "df.head()"
   ]
  },
  {
   "cell_type": "code",
   "execution_count": 8,
   "id": "162c670e-3bd6-45a7-a350-9fd27bcd32ff",
   "metadata": {},
   "outputs": [
    {
     "name": "stdout",
     "output_type": "stream",
     "text": [
      "<class 'pandas.core.frame.DataFrame'>\n",
      "RangeIndex: 11 entries, 0 to 10\n",
      "Data columns (total 9 columns):\n",
      " #   Column     Non-Null Count  Dtype  \n",
      "---  ------     --------------  -----  \n",
      " 0   studentid  11 non-null     int64  \n",
      " 1   firstName  11 non-null     object \n",
      " 2   LastName   11 non-null     object \n",
      " 3   Age        11 non-null     int64  \n",
      " 4   Gender     11 non-null     object \n",
      " 5   Score      11 non-null     int64  \n",
      " 6   Average    11 non-null     float64\n",
      " 7   Grade      11 non-null     object \n",
      " 8   Comment    11 non-null     object \n",
      "dtypes: float64(1), int64(3), object(5)\n",
      "memory usage: 924.0+ bytes\n"
     ]
    }
   ],
   "source": [
    "# Get info about df\n",
    "df.info()"
   ]
  },
  {
   "cell_type": "code",
   "execution_count": 9,
   "id": "b5950ec3-0f58-4b76-8d59-59fcece15371",
   "metadata": {},
   "outputs": [
    {
     "data": {
      "text/plain": [
       "studentid    0\n",
       "firstName    0\n",
       "LastName     0\n",
       "Age          0\n",
       "Gender       0\n",
       "Score        0\n",
       "Average      0\n",
       "Grade        0\n",
       "Comment      0\n",
       "dtype: int64"
      ]
     },
     "execution_count": 9,
     "metadata": {},
     "output_type": "execute_result"
    }
   ],
   "source": [
    "# Check for missing data\n",
    "df.isnull().sum()"
   ]
  },
  {
   "cell_type": "code",
   "execution_count": 10,
   "id": "d59d7708-dd32-45c5-8c97-03407314775c",
   "metadata": {},
   "outputs": [
    {
     "data": {
      "text/plain": [
       "Gender\n",
       "Male      6\n",
       "Female    5\n",
       "Name: count, dtype: int64"
      ]
     },
     "execution_count": 10,
     "metadata": {},
     "output_type": "execute_result"
    }
   ],
   "source": [
    "# Gender Count\n",
    "df['Gender'].value_counts()"
   ]
  },
  {
   "cell_type": "code",
   "execution_count": 11,
   "id": "8808c053-e773-4ad0-94df-87ba7ed29cb1",
   "metadata": {},
   "outputs": [
    {
     "data": {
      "text/html": [
       "<div>\n",
       "<style scoped>\n",
       "    .dataframe tbody tr th:only-of-type {\n",
       "        vertical-align: middle;\n",
       "    }\n",
       "\n",
       "    .dataframe tbody tr th {\n",
       "        vertical-align: top;\n",
       "    }\n",
       "\n",
       "    .dataframe thead th {\n",
       "        text-align: right;\n",
       "    }\n",
       "</style>\n",
       "<table border=\"1\" class=\"dataframe\">\n",
       "  <thead>\n",
       "    <tr style=\"text-align: right;\">\n",
       "      <th>Grade</th>\n",
       "      <th>A</th>\n",
       "      <th>B</th>\n",
       "      <th>C</th>\n",
       "    </tr>\n",
       "    <tr>\n",
       "      <th>Gender</th>\n",
       "      <th></th>\n",
       "      <th></th>\n",
       "      <th></th>\n",
       "    </tr>\n",
       "  </thead>\n",
       "  <tbody>\n",
       "    <tr>\n",
       "      <th>Female</th>\n",
       "      <td>1</td>\n",
       "      <td>2</td>\n",
       "      <td>2</td>\n",
       "    </tr>\n",
       "    <tr>\n",
       "      <th>Male</th>\n",
       "      <td>4</td>\n",
       "      <td>1</td>\n",
       "      <td>1</td>\n",
       "    </tr>\n",
       "  </tbody>\n",
       "</table>\n",
       "</div>"
      ],
      "text/plain": [
       "Grade   A  B  C\n",
       "Gender         \n",
       "Female  1  2  2\n",
       "Male    4  1  1"
      ]
     },
     "execution_count": 11,
     "metadata": {},
     "output_type": "execute_result"
    }
   ],
   "source": [
    "# Crosstab of Gender and Grade\n",
    "pd.crosstab(df['Gender'], df['Grade'])"
   ]
  },
  {
   "cell_type": "code",
   "execution_count": 12,
   "id": "20ce2f2d-b9e5-441c-a29f-2f4e28db116e",
   "metadata": {},
   "outputs": [
    {
     "data": {
      "text/html": [
       "<div>\n",
       "<style scoped>\n",
       "    .dataframe tbody tr th:only-of-type {\n",
       "        vertical-align: middle;\n",
       "    }\n",
       "\n",
       "    .dataframe tbody tr th {\n",
       "        vertical-align: top;\n",
       "    }\n",
       "\n",
       "    .dataframe thead tr th {\n",
       "        text-align: left;\n",
       "    }\n",
       "\n",
       "    .dataframe thead tr:last-of-type th {\n",
       "        text-align: right;\n",
       "    }\n",
       "</style>\n",
       "<table border=\"1\" class=\"dataframe\">\n",
       "  <thead>\n",
       "    <tr>\n",
       "      <th></th>\n",
       "      <th colspan=\"3\" halign=\"left\">Average</th>\n",
       "      <th colspan=\"3\" halign=\"left\">Score</th>\n",
       "    </tr>\n",
       "    <tr>\n",
       "      <th>Grade</th>\n",
       "      <th>A</th>\n",
       "      <th>B</th>\n",
       "      <th>C</th>\n",
       "      <th>A</th>\n",
       "      <th>B</th>\n",
       "      <th>C</th>\n",
       "    </tr>\n",
       "    <tr>\n",
       "      <th>Gender</th>\n",
       "      <th></th>\n",
       "      <th></th>\n",
       "      <th></th>\n",
       "      <th></th>\n",
       "      <th></th>\n",
       "      <th></th>\n",
       "    </tr>\n",
       "  </thead>\n",
       "  <tbody>\n",
       "    <tr>\n",
       "      <th>Female</th>\n",
       "      <td>81.4</td>\n",
       "      <td>150.8</td>\n",
       "      <td>130.4</td>\n",
       "      <td>82</td>\n",
       "      <td>152</td>\n",
       "      <td>131</td>\n",
       "    </tr>\n",
       "    <tr>\n",
       "      <th>Male</th>\n",
       "      <td>337.2</td>\n",
       "      <td>74.5</td>\n",
       "      <td>66.3</td>\n",
       "      <td>349</td>\n",
       "      <td>77</td>\n",
       "      <td>65</td>\n",
       "    </tr>\n",
       "  </tbody>\n",
       "</table>\n",
       "</div>"
      ],
      "text/plain": [
       "       Average               Score          \n",
       "Grade        A      B      C     A    B    C\n",
       "Gender                                      \n",
       "Female    81.4  150.8  130.4    82  152  131\n",
       "Male     337.2   74.5   66.3   349   77   65"
      ]
     },
     "execution_count": 12,
     "metadata": {},
     "output_type": "execute_result"
    }
   ],
   "source": [
    "# Pivot table\n",
    "pd.pivot_table(df, index='Gender', values=['Average', 'Score'], columns='Grade', aggfunc=sum)"
   ]
  },
  {
   "cell_type": "code",
   "execution_count": 14,
   "id": "75138fb8-6aff-46b0-a12e-c877befb62fc",
   "metadata": {},
   "outputs": [
    {
     "data": {
      "text/html": [
       "<div>\n",
       "<style scoped>\n",
       "    .dataframe tbody tr th:only-of-type {\n",
       "        vertical-align: middle;\n",
       "    }\n",
       "\n",
       "    .dataframe tbody tr th {\n",
       "        vertical-align: top;\n",
       "    }\n",
       "\n",
       "    .dataframe thead th {\n",
       "        text-align: right;\n",
       "    }\n",
       "</style>\n",
       "<table border=\"1\" class=\"dataframe\">\n",
       "  <thead>\n",
       "    <tr style=\"text-align: right;\">\n",
       "      <th></th>\n",
       "      <th>count</th>\n",
       "      <th>mean</th>\n",
       "      <th>std</th>\n",
       "      <th>min</th>\n",
       "      <th>25%</th>\n",
       "      <th>50%</th>\n",
       "      <th>75%</th>\n",
       "      <th>max</th>\n",
       "    </tr>\n",
       "  </thead>\n",
       "  <tbody>\n",
       "    <tr>\n",
       "      <th>studentid</th>\n",
       "      <td>11.0</td>\n",
       "      <td>105.090909</td>\n",
       "      <td>3.176619</td>\n",
       "      <td>101.0</td>\n",
       "      <td>102.50</td>\n",
       "      <td>105.0</td>\n",
       "      <td>107.5</td>\n",
       "      <td>110.0</td>\n",
       "    </tr>\n",
       "    <tr>\n",
       "      <th>Age</th>\n",
       "      <td>11.0</td>\n",
       "      <td>31.727273</td>\n",
       "      <td>13.107943</td>\n",
       "      <td>21.0</td>\n",
       "      <td>23.00</td>\n",
       "      <td>29.0</td>\n",
       "      <td>33.0</td>\n",
       "      <td>65.0</td>\n",
       "    </tr>\n",
       "    <tr>\n",
       "      <th>Score</th>\n",
       "      <td>11.0</td>\n",
       "      <td>77.818182</td>\n",
       "      <td>9.765431</td>\n",
       "      <td>60.0</td>\n",
       "      <td>71.50</td>\n",
       "      <td>80.0</td>\n",
       "      <td>86.0</td>\n",
       "      <td>90.0</td>\n",
       "    </tr>\n",
       "    <tr>\n",
       "      <th>Average</th>\n",
       "      <td>11.0</td>\n",
       "      <td>76.418182</td>\n",
       "      <td>8.664620</td>\n",
       "      <td>60.9</td>\n",
       "      <td>70.25</td>\n",
       "      <td>79.8</td>\n",
       "      <td>82.3</td>\n",
       "      <td>89.9</td>\n",
       "    </tr>\n",
       "  </tbody>\n",
       "</table>\n",
       "</div>"
      ],
      "text/plain": [
       "           count        mean        std    min     25%    50%    75%    max\n",
       "studentid   11.0  105.090909   3.176619  101.0  102.50  105.0  107.5  110.0\n",
       "Age         11.0   31.727273  13.107943   21.0   23.00   29.0   33.0   65.0\n",
       "Score       11.0   77.818182   9.765431   60.0   71.50   80.0   86.0   90.0\n",
       "Average     11.0   76.418182   8.664620   60.9   70.25   79.8   82.3   89.9"
      ]
     },
     "execution_count": 14,
     "metadata": {},
     "output_type": "execute_result"
    }
   ],
   "source": [
    "#Statistical Overview\n",
    "df.describe().T"
   ]
  },
  {
   "cell_type": "code",
   "execution_count": 15,
   "id": "4ee17874-7735-453e-aa42-04fc7af93ffd",
   "metadata": {},
   "outputs": [
    {
     "data": {
      "text/html": [
       "<div>\n",
       "<style scoped>\n",
       "    .dataframe tbody tr th:only-of-type {\n",
       "        vertical-align: middle;\n",
       "    }\n",
       "\n",
       "    .dataframe tbody tr th {\n",
       "        vertical-align: top;\n",
       "    }\n",
       "\n",
       "    .dataframe thead th {\n",
       "        text-align: right;\n",
       "    }\n",
       "</style>\n",
       "<table border=\"1\" class=\"dataframe\">\n",
       "  <thead>\n",
       "    <tr style=\"text-align: right;\">\n",
       "      <th></th>\n",
       "      <th>Score</th>\n",
       "      <th>Average</th>\n",
       "    </tr>\n",
       "    <tr>\n",
       "      <th>Gender</th>\n",
       "      <th></th>\n",
       "      <th></th>\n",
       "    </tr>\n",
       "  </thead>\n",
       "  <tbody>\n",
       "    <tr>\n",
       "      <th>Female</th>\n",
       "      <td>73.000000</td>\n",
       "      <td>72.520000</td>\n",
       "    </tr>\n",
       "    <tr>\n",
       "      <th>Male</th>\n",
       "      <td>81.833333</td>\n",
       "      <td>79.666667</td>\n",
       "    </tr>\n",
       "  </tbody>\n",
       "</table>\n",
       "</div>"
      ],
      "text/plain": [
       "            Score    Average\n",
       "Gender                      \n",
       "Female  73.000000  72.520000\n",
       "Male    81.833333  79.666667"
      ]
     },
     "execution_count": 15,
     "metadata": {},
     "output_type": "execute_result"
    }
   ],
   "source": [
    "# grouping data\n",
    "df.groupby('Gender')[['Score', 'Average']].mean()"
   ]
  },
  {
   "cell_type": "code",
   "execution_count": 16,
   "id": "56a3f3dc-a775-446f-b4dd-8bc9b4322815",
   "metadata": {},
   "outputs": [
    {
     "data": {
      "text/plain": [
       "(11, 9)"
      ]
     },
     "execution_count": 16,
     "metadata": {},
     "output_type": "execute_result"
    }
   ],
   "source": [
    "# shape of data\n",
    "df.shape"
   ]
  },
  {
   "cell_type": "code",
   "execution_count": 17,
   "id": "6da2cd81-76e4-4e46-8df9-578261f4ee49",
   "metadata": {},
   "outputs": [
    {
     "data": {
      "text/plain": [
       "90"
      ]
     },
     "execution_count": 17,
     "metadata": {},
     "output_type": "execute_result"
    }
   ],
   "source": [
    "# Get max value for score\n",
    "df['Score'].max()"
   ]
  },
  {
   "cell_type": "code",
   "execution_count": 18,
   "id": "c5856f15-0579-48cc-bb50-8b11e25214c6",
   "metadata": {},
   "outputs": [
    {
     "data": {
      "text/plain": [
       "60"
      ]
     },
     "execution_count": 18,
     "metadata": {},
     "output_type": "execute_result"
    }
   ],
   "source": [
    "# Get min value for score\n",
    "df['Score'].min()"
   ]
  },
  {
   "cell_type": "code",
   "execution_count": 20,
   "id": "55f01c0a-c704-4615-9f67-25bdaffdd0d1",
   "metadata": {},
   "outputs": [
    {
     "data": {
      "text/plain": [
       "(3, 8)"
      ]
     },
     "execution_count": 20,
     "metadata": {},
     "output_type": "execute_result"
    }
   ],
   "source": [
    "# Index of max and min value\n",
    "df['Average'].idxmax(), df['Average'].idxmin()"
   ]
  },
  {
   "cell_type": "code",
   "execution_count": 24,
   "id": "8d7ed161-f392-476f-9dba-2f97436b0a52",
   "metadata": {},
   "outputs": [
    {
     "data": {
      "text/html": [
       "<div>\n",
       "<style scoped>\n",
       "    .dataframe tbody tr th:only-of-type {\n",
       "        vertical-align: middle;\n",
       "    }\n",
       "\n",
       "    .dataframe tbody tr th {\n",
       "        vertical-align: top;\n",
       "    }\n",
       "\n",
       "    .dataframe thead th {\n",
       "        text-align: right;\n",
       "    }\n",
       "</style>\n",
       "<table border=\"1\" class=\"dataframe\">\n",
       "  <thead>\n",
       "    <tr style=\"text-align: right;\">\n",
       "      <th></th>\n",
       "      <th>LastName</th>\n",
       "      <th>Gender</th>\n",
       "      <th>Grade</th>\n",
       "    </tr>\n",
       "  </thead>\n",
       "  <tbody>\n",
       "    <tr>\n",
       "      <th>2</th>\n",
       "      <td>Kamsi</td>\n",
       "      <td>Female</td>\n",
       "      <td>A</td>\n",
       "    </tr>\n",
       "    <tr>\n",
       "      <th>3</th>\n",
       "      <td>Sam</td>\n",
       "      <td>Male</td>\n",
       "      <td>A</td>\n",
       "    </tr>\n",
       "    <tr>\n",
       "      <th>6</th>\n",
       "      <td>Jay</td>\n",
       "      <td>Female</td>\n",
       "      <td>B</td>\n",
       "    </tr>\n",
       "  </tbody>\n",
       "</table>\n",
       "</div>"
      ],
      "text/plain": [
       "  LastName  Gender Grade\n",
       "2    Kamsi  Female     A\n",
       "3      Sam    Male     A\n",
       "6      Jay  Female     B"
      ]
     },
     "execution_count": 24,
     "metadata": {},
     "output_type": "execute_result"
    }
   ],
   "source": [
    "#Select columns based on index\n",
    "df.iloc[[2,3,6],[2,4,7]]"
   ]
  },
  {
   "cell_type": "code",
   "execution_count": 32,
   "id": "45d44488-756e-4e0d-bbf7-5f2bbd3d37e5",
   "metadata": {},
   "outputs": [
    {
     "data": {
      "text/plain": [
       "Grade  Average  Score\n",
       "A      82.3     87       2\n",
       "       81.4     82       1\n",
       "       82.7     85       1\n",
       "       89.9     90       1\n",
       "B      71.0     72       1\n",
       "       74.5     77       1\n",
       "       79.8     80       1\n",
       "C      60.9     60       1\n",
       "       66.3     65       1\n",
       "       69.5     71       1\n",
       "Name: count, dtype: int64"
      ]
     },
     "execution_count": 32,
     "metadata": {},
     "output_type": "execute_result"
    }
   ],
   "source": [
    "df.groupby('Grade')[['Average', 'Score']].value_counts()"
   ]
  },
  {
   "cell_type": "code",
   "execution_count": 36,
   "id": "0ef01ab0-c434-4ea4-9b0b-7002eeb04f72",
   "metadata": {},
   "outputs": [],
   "source": [
    "#[low, high] = df['Average'].between(.1,.9)\n",
    "#df.quantile(low, high)"
   ]
  },
  {
   "cell_type": "code",
   "execution_count": null,
   "id": "e7559b7c-ca86-4a62-8a5b-8113ee6c0cf8",
   "metadata": {},
   "outputs": [],
   "source": [
    "df['']"
   ]
  },
  {
   "cell_type": "markdown",
   "id": "703c3bb2-5e7c-4513-97c4-063315ccddd7",
   "metadata": {},
   "source": [
    "<h2>Visualisation</h2>"
   ]
  },
  {
   "cell_type": "code",
   "execution_count": 25,
   "id": "172037da-e125-414b-b66f-e7f0e90d3f38",
   "metadata": {},
   "outputs": [
    {
     "data": {
      "text/plain": [
       "Text(0.5, 1.0, 'Gender Vs Average')"
      ]
     },
     "execution_count": 25,
     "metadata": {},
     "output_type": "execute_result"
    },
    {
     "data": {
      "text/plain": [
       "<Figure size 300x400 with 0 Axes>"
      ]
     },
     "metadata": {},
     "output_type": "display_data"
    },
    {
     "data": {
      "image/png": "[encoded data removed]",
      "text/plain": [
       "<Figure size 559.75x500 with 1 Axes>"
      ]
     },
     "metadata": {},
     "output_type": "display_data"
    }
   ],
   "source": [
    "fig = plt.figure(figsize=[3,4])\n",
    "sb.catplot(data=df, x='Gender', y='Average', hue='Grade')\n",
    "plt.xlabel('Gender')\n",
    "plt.ylabel('Average')\n",
    "plt.title('Gender Vs Average')"
   ]
  },
  {
   "cell_type": "code",
   "execution_count": 26,
   "id": "6c0ef338-2bc3-40c7-8387-d4a1e23a4ca0",
   "metadata": {},
   "outputs": [
    {
     "data": {
      "text/plain": [
       "Text(0.5, 1.0, 'Score Vs Average')"
      ]
     },
     "execution_count": 26,
     "metadata": {},
     "output_type": "execute_result"
    },
    {
     "data": {
      "image/png": "[encoded data removed]",
      "text/plain": [
       "<Figure size 300x400 with 1 Axes>"
      ]
     },
     "metadata": {},
     "output_type": "display_data"
    }
   ],
   "source": [
    "fig = plt.figure(figsize=[3,4])\n",
    "sb.barplot(data=df, x='Score', y='Average', hue='Grade')\n",
    "plt.xlabel('Score')\n",
    "plt.ylabel('Average')\n",
    "plt.title('Score Vs Average')"
   ]
  },
  {
   "cell_type": "code",
   "execution_count": 30,
   "id": "2d4002c7-e19c-4965-97fd-dd35b581ba73",
   "metadata": {},
   "outputs": [
    {
     "data": {
      "text/plain": [
       "Text(0.5, 1.0, 'Age Vs Average')"
      ]
     },
     "execution_count": 30,
     "metadata": {},
     "output_type": "execute_result"
    },
    {
     "data": {
      "image/png": "[encoded data removed]",
      "text/plain": [
       "<Figure size 300x400 with 1 Axes>"
      ]
     },
     "metadata": {},
     "output_type": "display_data"
    }
   ],
   "source": [
    "fig = plt.figure(figsize=[3,4])\n",
    "sb.regplot(data=df, x='Age', y='Average')\n",
    "plt.xlabel('Age')\n",
    "plt.ylabel('Average')\n",
    "plt.title('Age Vs Average')"
   ]
  },
  {
   "cell_type": "code",
   "execution_count": 31,
   "id": "7de31d16-ee61-45e3-9e26-12cf972cd515",
   "metadata": {},
   "outputs": [
    {
     "data": {
      "text/plain": [
       "Text(0.5, 1.0, 'Age Vs Average')"
      ]
     },
     "execution_count": 31,
     "metadata": {},
     "output_type": "execute_result"
    },
    {
     "data": {
      "image/png": "[encoded data removed]",
      "text/plain": [
       "<Figure size 300x400 with 1 Axes>"
      ]
     },
     "metadata": {},
     "output_type": "display_data"
    }
   ],
   "source": [
    "fig = plt.figure(figsize=[3,4])\n",
    "sb.kdeplot(data=df, x='Age', y='Average')\n",
    "plt.xlabel('Age')\n",
    "plt.ylabel('Average')\n",
    "plt.title('Age Vs Average')"
   ]
  },
  {
   "cell_type": "code",
   "execution_count": 38,
   "id": "12dfe2d3-361f-4dbe-ba9a-29ec96a0f31d",
   "metadata": {},
   "outputs": [],
   "source": [
    "df.to_excel('sample.xlsx')"
   ]
  },
  {
   "cell_type": "code",
   "execution_count": 43,
   "id": "6c6a6ad6-9016-4362-bee1-65ab560e68cc",
   "metadata": {},
   "outputs": [
    {
     "data": {
      "text/html": [
       "<div>\n",
       "<style scoped>\n",
       "    .dataframe tbody tr th:only-of-type {\n",
       "        vertical-align: middle;\n",
       "    }\n",
       "\n",
       "    .dataframe tbody tr th {\n",
       "        vertical-align: top;\n",
       "    }\n",
       "\n",
       "    .dataframe thead th {\n",
       "        text-align: right;\n",
       "    }\n",
       "</style>\n",
       "<table border=\"1\" class=\"dataframe\">\n",
       "  <thead>\n",
       "    <tr style=\"text-align: right;\">\n",
       "      <th></th>\n",
       "      <th>studentid</th>\n",
       "      <th>firstName</th>\n",
       "      <th>LastName</th>\n",
       "      <th>Age</th>\n",
       "      <th>Gender</th>\n",
       "      <th>Score</th>\n",
       "      <th>Average</th>\n",
       "      <th>Grade</th>\n",
       "      <th>Comment</th>\n",
       "    </tr>\n",
       "  </thead>\n",
       "  <tbody>\n",
       "    <tr>\n",
       "      <th>2</th>\n",
       "      <td>103</td>\n",
       "      <td>Blue</td>\n",
       "      <td>Kamsi</td>\n",
       "      <td>22</td>\n",
       "      <td>Female</td>\n",
       "      <td>82</td>\n",
       "      <td>81.4</td>\n",
       "      <td>A</td>\n",
       "      <td>Excellent</td>\n",
       "    </tr>\n",
       "    <tr>\n",
       "      <th>6</th>\n",
       "      <td>107</td>\n",
       "      <td>Flora</td>\n",
       "      <td>Jay</td>\n",
       "      <td>32</td>\n",
       "      <td>Female</td>\n",
       "      <td>80</td>\n",
       "      <td>79.8</td>\n",
       "      <td>B</td>\n",
       "      <td>Very Good</td>\n",
       "    </tr>\n",
       "    <tr>\n",
       "      <th>8</th>\n",
       "      <td>109</td>\n",
       "      <td>Remi</td>\n",
       "      <td>Oluwa</td>\n",
       "      <td>65</td>\n",
       "      <td>Female</td>\n",
       "      <td>60</td>\n",
       "      <td>60.9</td>\n",
       "      <td>C</td>\n",
       "      <td>God</td>\n",
       "    </tr>\n",
       "    <tr>\n",
       "      <th>5</th>\n",
       "      <td>106</td>\n",
       "      <td>Victoria</td>\n",
       "      <td>Jay</td>\n",
       "      <td>21</td>\n",
       "      <td>Female</td>\n",
       "      <td>72</td>\n",
       "      <td>71.0</td>\n",
       "      <td>B</td>\n",
       "      <td>Very Good</td>\n",
       "    </tr>\n",
       "  </tbody>\n",
       "</table>\n",
       "</div>"
      ],
      "text/plain": [
       "   studentid firstName LastName  Age  Gender  Score  Average Grade    Comment\n",
       "2        103      Blue    Kamsi   22  Female     82     81.4     A  Excellent\n",
       "6        107     Flora      Jay   32  Female     80     79.8     B  Very Good\n",
       "8        109      Remi    Oluwa   65  Female     60     60.9     C        God\n",
       "5        106  Victoria      Jay   21  Female     72     71.0     B  Very Good"
      ]
     },
     "execution_count": 43,
     "metadata": {},
     "output_type": "execute_result"
    }
   ],
   "source": [
    "df.sample(n=4, random_state=10)"
   ]
  }
 ],
 "metadata": {
  "kernelspec": {
   "display_name": "Python 3 (ipykernel)",
   "language": "python",
   "name": "python3"
  },
  "language_info": {
   "codemirror_mode": {
    "name": "ipython",
    "version": 3
   },
   "file_extension": ".py",
   "mimetype": "text/x-python",
   "name": "python",
   "nbconvert_exporter": "python",
   "pygments_lexer": "ipython3",
   "version": "3.11.7"
  }
 },
 "nbformat": 4,
 "nbformat_minor": 5
}
